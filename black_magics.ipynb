{
 "cells": [
  {
   "cell_type": "markdown",
   "metadata": {},
   "source": [
    "# 🐍Python Tricks - Black Magics"
   ]
  },
  {
   "cell_type": "markdown",
   "metadata": {},
   "source": [
    "## Table of Content:\n",
    "* [EAFP](#anchor1)\n",
    "* [self assist](#anchor2)\n",
    "* [eval](#anchor3)\n",
    "* [str.find](#anchor4)\n",
    "* [str.replace](#anchor5)\n",
    "* [^ (xor)](#anchor6)\n",
    "* [Sentinel](#anchor7)\n",
    "* [+= ,](#anchor8)\n",
    "* [List Comprehension with Break](#anchor9)\n",
    "* [Integrated by Fractions](#anchor10)\n",
    "* [Complex Number in Matrix](#anchor11)"
   ]
  },
  {
   "cell_type": "markdown",
   "metadata": {},
   "source": [
    "***"
   ]
  },
  {
   "cell_type": "markdown",
   "metadata": {},
   "source": [
    "## EAFP <a name=\"anchor1\"></a>"
   ]
  },
  {
   "cell_type": "markdown",
   "metadata": {},
   "source": [
    "use [**EAFP**](https://docs.python.org/2/glossary.html#term-eafp)(easier to ask for forgiveness than permission) against [**LBYL**](https://docs.python.org/2/glossary.html#term-lbyl) (look before you leap), actually this is the Pythonic design philosophy."
   ]
  },
  {
   "cell_type": "markdown",
   "metadata": {},
   "source": [
    "```python\n",
    "\"\"\"LBYL\"\"\"\n",
    "if \"key\" in dict_:\n",
    "    value += dict_[\"key\"]\n",
    "    \n",
    "\"\"\"EAFP\"\"\"\n",
    "# downplays the importance of the key\n",
    "try:\n",
    "    value += dict_[\"key\"]\n",
    "except KeyError:\n",
    "    pass\n",
    "```"
   ]
  },
  {
   "cell_type": "markdown",
   "metadata": {},
   "source": [
    "Let's write a Fibonacci example in a pythonic-style. We will provide the result in generator way and iterate in EAFP style."
   ]
  },
  {
   "cell_type": "code",
   "execution_count": 1,
   "metadata": {},
   "outputs": [
    {
     "name": "stdout",
     "output_type": "stream",
     "text": [
      "0 1 1 2 3 5 "
     ]
    }
   ],
   "source": [
    "\"\"\"pythonic fibonacci\"\"\"\n",
    "#generator function\n",
    "def fibonacci(n):\n",
    "    a, b, counter = 0, 1, 0\n",
    "    while counter <= n:\n",
    "        yield a\n",
    "        a, b = b, a + b\n",
    "        counter += 1\n",
    "        \n",
    "f = fibonacci(5) #f is iterator object\n",
    "while True:\n",
    "    try:\n",
    "        print (next(f), end=\" \")\n",
    "    except StopIteration:\n",
    "        break"
   ]
  },
  {
   "cell_type": "markdown",
   "metadata": {},
   "source": [
    "#### Inspirations:\n",
    "```python\n",
    "\"\"\"used in detect cycle in linked list\"\"\"\n",
    "# L141: determine there is a cycle in a linked list\n",
    "def has_cycle_in_linked_list(head: ListNode) -> bool:\n",
    "    try:\n",
    "        slow = head\n",
    "        fast = head.next\n",
    "        while slow is not fast:\n",
    "            slow = slow.next\n",
    "            fast = fast.next.next\n",
    "        return True\n",
    "    except:\n",
    "        return False\n",
    "\n",
    "\"\"\"used in binary search and insert\"\"\"\n",
    "# L334: given an unsorted array return whether an increasing subsequence (incontinuous) of length k exists or not in the array.\n",
    "def increasing_triplet(nums: List[int], k: int) -> bool:\n",
    "    try:\n",
    "        inc = [float('inf')] * (k - 1)\n",
    "        for x in nums:\n",
    "            inc[bisect.bisect_left(inc, x)] = x\n",
    "        return k == 0\n",
    "    except:\n",
    "        return True\n",
    "\n",
    "\"\"\"used in eval\"\"\"\n",
    "# L301: Remove the minimum number of invalid parentheses in order to make the input string valid. Return all possible results.\n",
    "def remove_invalid_parentheses(s: str) -> List[str]:\n",
    "    def isvalid(s):\n",
    "        try:\n",
    "            eval('0,' + ''.join(filter('()'.count, s)).replace(')', '),'))\n",
    "            return True\n",
    "        except:\n",
    "            pass\n",
    "    level = {s}\n",
    "    while True:\n",
    "        valid = list(filter(isvalid, level))\n",
    "        if valid:\n",
    "            return valid\n",
    "        level = {s[:i] + s[i+1:] for s in level for i in range(len(s))}\n",
    "```"
   ]
  },
  {
   "cell_type": "markdown",
   "metadata": {},
   "source": [
    "## self assist <a name=\"anchor2\"></a>"
   ]
  },
  {
   "cell_type": "markdown",
   "metadata": {},
   "source": [
    "a trick of dynamic property, but a bit intrusive"
   ]
  },
  {
   "cell_type": "markdown",
   "metadata": {},
   "source": [
    "#### Inspiration:\n",
    "```python\n",
    "\"\"\"self as dummy node in linked list\"\"\"\n",
    "def traverse_linked_list(self, head: TreeNode) -> TreeNode:\n",
    "    pre, pre.next = self, head\n",
    "    while pre.next:\n",
    "        self.process_logic(pre.next)\n",
    "    return self.next  # return head node\n",
    "```"
   ]
  },
  {
   "cell_type": "markdown",
   "metadata": {},
   "source": [
    "## eval <a name=\"anchor3\"></a>\n",
    "eval() executes arbitrary strings as Python code. But note that eval may become a potential security risk."
   ]
  },
  {
   "cell_type": "markdown",
   "metadata": {},
   "source": [
    "#### Inspiration:\n",
    "```python\n",
    "\"\"\"build a tree constructor and use eval to execute\"\"\"\n",
    "# L536: construct binary tree from string\n",
    "def str2tree(s: str) -> TreeNode:\n",
    "    def t(val, left=None, right=None):\n",
    "        node, node.left, node.right = TreeNode(val), left, right\n",
    "        return node\n",
    "    return eval('t(' + s.replace('(', ',t(') + ')') if s else None\n",
    "```"
   ]
  },
  {
   "cell_type": "markdown",
   "metadata": {},
   "source": [
    "## str.find <a name=\"anchor4\"></a>\n",
    "This is clever use of str.find. Although this usage is not very generalizable, the idea can be used for reference."
   ]
  },
  {
   "cell_type": "markdown",
   "metadata": {},
   "source": [
    "#### Inspiration:\n",
    "```python\n",
    "\"\"\"use find to construct a mechanism: if val is # return 1, if not return -1\"\"\"\n",
    "# L331: verify preorder serialization of a binary tree, if it is a null node, we record using a sentinel value #\n",
    "def is_valid_serialization(preorder: str) -> bool:\n",
    "    need = 1\n",
    "    for val in preorder.split(','):\n",
    "        if not need:\n",
    "            return False\n",
    "        need -= ' #'.find(val)\n",
    "    return not need\n",
    "```"
   ]
  },
  {
   "cell_type": "markdown",
   "metadata": {},
   "source": [
    "## str.replace <a name=\"anchor5\"></a>"
   ]
  },
  {
   "cell_type": "markdown",
   "metadata": {},
   "source": [
    "Use str.replace to implement a string version's union-find (disjoint-set)."
   ]
  },
  {
   "cell_type": "markdown",
   "metadata": {},
   "source": [
    "#### Inspiration:\n",
    "```python\n",
    "\"\"\"convert int to unicode char, and use str.replace to merge the connected nodes by reduce\"\"\"\n",
    "# L323: given n nodes from 0 to n - 1 and a list of undirected edges, find the number of connected components in an undirected graph.\n",
    "def count_connected_components(n: int, edges: List[List[int]]) -> int:\n",
    "    return len(set(reduce(lambda s, edge: s.replace(s[edge[1]], s[edge[0]]), edges, ''.join(map(chr, range(n))))))\n",
    "```"
   ]
  },
  {
   "cell_type": "markdown",
   "metadata": {},
   "source": [
    "## ^ (xor) <a name=\"anchor6\"></a>\n",
    "^ is usually used for removing even exactly same numbers and save the odd, or save the distinct bits and remove the same."
   ]
  },
  {
   "cell_type": "markdown",
   "metadata": {},
   "source": [
    "#### Inspirations:\n",
    "```python\n",
    "\"\"\"Use ^ to remove even exactly same numbers and save the odd, or save the distinct bits and remove the same.\"\"\"\n",
    "\"\"\"bit manipulate: a^b^b = a\"\"\"\n",
    "# L268: Given an array containing n distinct numbers taken from 0, 1, 2, ..., n, find the one that is missing from the array.\n",
    "def missing_number(nums: List[int]) -> int:\n",
    "    res = 0\n",
    "    for i, e in enumerate(nums):\n",
    "        res = res ^ i ^ e\n",
    "    return res ^ len(nums)\n",
    "\n",
    "\"\"\"simply find the first index whose \"partner index\" (the index xor 1) holds a different value.\"\"\"\n",
    "# L540: find the single element, in a sorted array where every element appears twice except for one. \n",
    "def single_non_duplicate(nums: List[int]) -> int:\n",
    "    lo, hi = 0, len(nums) - 1\n",
    "    while lo < hi:\n",
    "        mid = (lo + hi) // 2\n",
    "        if nums[mid] == nums[mid ^ 1]:\n",
    "            lo = mid + 1\n",
    "        else:\n",
    "            hi = mid\n",
    "    return nums[lo]\n",
    "\n",
    "\"\"\"parity in triple comparisons\"\"\"\n",
    "# L81: search a target in a rotated sorted array\n",
    "def search_in_rotated_sorted_arr(nums: List[int], target: int) -> int:\n",
    "    \"\"\"I have three checks (nums[0] <= target), (target <= nums[i]) and (nums[i] < nums[0]), and I want to know\n",
    "    whether exactly two of them are true. They can't all be true or all be false (check it), so I just need to\n",
    "    distinguish between \"two true\" and \"one true\". Parity is enough for that, so instead of adding them I xor them\"\"\"\n",
    "    self.__getitem__ = lambda i: (nums[0] <= target) ^ (nums[0] > nums[i]) ^ (target > nums[i])\n",
    "    i = bisect.bisect_left(self, True, 0, len(nums))\n",
    "    return i if target in nums[i:i+1] else -1\n",
    "```"
   ]
  },
  {
   "cell_type": "markdown",
   "metadata": {},
   "source": [
    "## Sentinel <a name=\"anchor7\"></a>"
   ]
  },
  {
   "cell_type": "markdown",
   "metadata": {},
   "source": [
    "Sentinel can make the program simpler: a mechanism to distinguish useful data from placeholders which indicate data is absent.\n",
    "\n",
    "For example, we can put the key we search after the end of the array, this ensures that we will eventually find the element. When we find it, we only have to check whether we found a real element or just the sentinel.\n",
    "\n",
    "Here we compare two similar built-in functions: str.index without sentinel and str.find with sentinel."
   ]
  },
  {
   "cell_type": "markdown",
   "metadata": {},
   "source": [
    "#### Sentinel in Python:\n",
    "```python\n",
    "\"\"\"find vs index\"\"\"    \n",
    "\"\"\"index without sentinel\"\"\"\n",
    "try:\n",
    "    i = a.index(b)\n",
    "except:\n",
    "    return\n",
    "\n",
    "\"\"\"index with sentinel\"\"\"\n",
    "i = a.find(b)\n",
    "if i == -1:\n",
    "    return\n",
    "\n",
    "\"\"\"sentinel in dict.get\"\"\"\n",
    "sentinel = object()\n",
    "value = my_dict.get(key, sentinel)\n",
    "if value is not sentinel:\n",
    "    # Do something with value\n",
    "\n",
    "\"\"\"sentinel in iter\"\"\"\n",
    "blocks = ''.join(iter(partial(f.read, 32), ''))\n",
    "```"
   ]
  },
  {
   "cell_type": "markdown",
   "metadata": {},
   "source": [
    "#### Inspirations:\n",
    "```python        \n",
    "\"\"\"add a sentinel n at the end (which is the appropriate last insertion index then)\"\"\"\n",
    "# L47: given a collection of numbers that might contain duplicates, return all possible unique permutations.\n",
    "def permute_unique(nums: List[int]) -> List[List[int]]:\n",
    "    perms = [[]]\n",
    "    for n in nums:\n",
    "        perms = [p[:i] + [n] + p[i:]\n",
    "                 for p in perms\n",
    "                 for i in range((p + [n]).index(n) + 1)]\n",
    "    return perms\n",
    "\n",
    "\"\"\"sentinel in matrix\"\"\"    \n",
    "def traverse_neighbors(matrix: List[List[int]]):\n",
    "    m, n = len(matrix), len(matrix[0])\n",
    "    \"\"\"augment matrix to void length check by sentinel\"\"\"\n",
    "    matrix += [0] * n,\n",
    "    for row in matrix:\n",
    "        row.append(0)\n",
    "    \n",
    "    for i in range(m):\n",
    "        for j in range(n):\n",
    "            # construct neighbor iterator\n",
    "            for I, J in (i + 1, j), (i - 1, j), (i, j + 1), (i, j - 1):\n",
    "                \"\"\"no need to check boundary\"\"\"\n",
    "                process_neighbor_logic(matrix[I][J])\n",
    "\n",
    "\"\"\"functional sentinel\"\"\"\n",
    "def get_element(matrix: List[List[int]], i: int, j: int) -> int:\n",
    "    return matrix[i][j] if 0 <= i < m and 0 <= j < n else -1\n",
    "```"
   ]
  },
  {
   "cell_type": "markdown",
   "metadata": {},
   "source": [
    "## += , <a name=\"anchor8\"></a>"
   ]
  },
  {
   "cell_type": "markdown",
   "metadata": {},
   "source": [
    "less to type and more clear, even faster according to the test. but if not familiar with, may bring confusion."
   ]
  },
  {
   "cell_type": "code",
   "execution_count": 2,
   "metadata": {
    "scrolled": true
   },
   "outputs": [
    {
     "data": {
      "text/plain": [
       "[1, 2, 3, 4]"
      ]
     },
     "execution_count": 2,
     "metadata": {},
     "output_type": "execute_result"
    }
   ],
   "source": [
    "\"\"\", means convert to tuple, += element, equals to append(element)\"\"\"\n",
    "arr = [1, 2, 3]\n",
    "arr += 4,\n",
    "arr"
   ]
  },
  {
   "cell_type": "markdown",
   "metadata": {},
   "source": [
    "## List Comprehension with Break <a name=\"anchor9\"></a>"
   ]
  },
  {
   "cell_type": "markdown",
   "metadata": {},
   "source": [
    "We know we cannot use branch logic (conditional execution) like if/else in list comprehension, so how to simulate break in list comprehension?\n",
    "\n",
    "Notice it is just a study and exploration of list comprehension. Since this trick is too hackish with poor readability and performance, so it should not be used in production code. But the techniques and ideas can be used for reference and may provide some inspirations.\n",
    "\n",
    "Let's take this Stack Overflow question as an example:\n",
    ">How can I stop the iteration of list comprehension when a particular element is found."
   ]
  },
  {
   "cell_type": "markdown",
   "metadata": {},
   "source": [
    "```python\n",
    "# pseudo code\n",
    "new_list=[a for a in origin_list break if a==break_elment]\n",
    "```"
   ]
  },
  {
   "cell_type": "markdown",
   "metadata": {},
   "source": [
    "Here is the hackish solution:"
   ]
  },
  {
   "cell_type": "code",
   "execution_count": 3,
   "metadata": {},
   "outputs": [
    {
     "data": {
      "text/plain": [
       "[1, 2, 3]"
      ]
     },
     "execution_count": 3,
     "metadata": {},
     "output_type": "execute_result"
    }
   ],
   "source": [
    "# https://stackoverflow.com/a/56054962/11263560\n",
    "origin_list = [1, 2, 3, 3, 4, 3, 5]\n",
    "break_elment = 3\n",
    "\n",
    "new_list = [a for end in [[]] for a in origin_list\n",
    "         if not end and not (a == break_elment and end.append(42))]\n",
    "new_list"
   ]
  },
  {
   "cell_type": "markdown",
   "metadata": {},
   "source": [
    "There are many techniques used in this trick:\n",
    "\n",
    "1. The key point is building an `end` condition in list comprehension. Skip the rest elements when end is not empty (Actually not break out, but indeed in logic).\n",
    "2. How to initialize a variable (`end`) in a list comprehension?  Here is a trick to wrap it in a for list: `for end in [[]]`.\n",
    "3. How to implement branch logic in a list comprehension? Use lazy evaluation technique in `and`/`or` to divide branch logics.\n"
   ]
  },
  {
   "cell_type": "markdown",
   "metadata": {},
   "source": [
    "#### Inspiration:\n",
    "```python\n",
    "# https://stackoverflow.com/a/55671533/11263560\n",
    "# How can I break a list comprehension based on a condition, for instance when the number 412 is found?\n",
    "# requirement in pseudo code\n",
    "even = [n for n in numbers if 0 == n % 2 and break if n == 412]\n",
    "\n",
    "\"\"\"use end condition\"\"\"\n",
    "even = [n for end in [[]] for n in numbers\n",
    "        if (False if end or n != 412 else end.append(42))\n",
    "        or not end and not n % 2]\n",
    "\n",
    "# https://stackoverflow.com/q/55646039/11263560\n",
    "\"\"\"use push & pop to record last pair\"\"\"\n",
    "res = [last.pop() and last.append(b) or b for last in [[desired_list[0]]] for a, b in \n",
    "       zip([desired_list[0]] + desired_list, desired_list) if abs(a[1] - b[1]) <= 5 and a == last[0]]\n",
    "\n",
    "\"\"\"use end condition\"\"\"\n",
    "res = [b for end in [[]] for a, b in zip([desired_list[0]] + desired_list, desired_list) \n",
    "       if (False if end or abs(a[1] - b[1]) <= 5 else end.append(42)) or not end and abs(a[1] - b[1]) <= 5]\n",
    "```"
   ]
  },
  {
   "cell_type": "markdown",
   "metadata": {},
   "source": [
    "## Integrated by Fractions  <a name=\"anchor10\"></a>"
   ]
  },
  {
   "cell_type": "markdown",
   "metadata": {},
   "source": [
    "Integrate several dimensions into one dictionary by the index with fractions."
   ]
  },
  {
   "cell_type": "markdown",
   "metadata": {},
   "source": [
    "#### Inspiration:\n",
    "```python\n",
    "# L562: given a 01 matrix, find the longest line of consecutive one. the line could be horizontal, vertical, diagonal or anti-diagonal.\n",
    "def longest_line(matrix: List[List[int]]) -> int:\n",
    "    max_len = 0\n",
    "    cur_len = defaultdict(int)\n",
    "    for i, row in enumerate(matrix):\n",
    "        for j, v in enumerate(row):\n",
    "            \"\"\"merge row, col, analog, anti-analog into one dict by fractions\"\"\"\n",
    "            for key in i, j + .1, i + j + .2, i - j + .3:    # analog: i+j, anti-analog: i-j\n",
    "                cur_len[key] = (cur_len[key] + 1) * v   # accumulate util v turn to zero\n",
    "                max_len = max(max_len, cur_len[key])\n",
    "    return max_len\n",
    "```"
   ]
  },
  {
   "cell_type": "markdown",
   "metadata": {},
   "source": [
    "## Complex Number in Matrix <a name=\"anchor11\"></a>"
   ]
  },
  {
   "cell_type": "markdown",
   "metadata": {},
   "source": [
    "use complex number in 2d representation, and visit 4-directions by imaginary unit calculation."
   ]
  },
  {
   "cell_type": "markdown",
   "metadata": {},
   "source": [
    "#### Inspirations:\n",
    "```python\n",
    "\"\"\"simplify two-dimension index into one-dimension by complex number\"\"\"\n",
    "# traverse neighbors in matrix\n",
    "def traverse_neighbor_by_complex(matrix: List[List[int]]) -> None:\n",
    "    matrix = {i + 1j * j: v for i, row in enumerate(matrix) for j, v in enumerate(row)}\n",
    "    for z in matrix:\n",
    "        \"\"\"visit 4-directional neighbor by complex calculation\"\"\"\n",
    "        for k in range(4):\n",
    "            process_neighbor_logic(matrix.get(z + 1j ** k))\n",
    "       \n",
    "# L657: given a sequence of robot 4-directional moves \"LRUD\", judge if this robot ends up at (0, 0) after it completes its moves.\n",
    "def judge_circle(moves: str) -> bool:\n",
    "    \"\"\"D: 1j**-1=-1j, R: 1j**0=1+0j, U: 1j**1=1j, L: 1j**2=-1+0j, result in D+U=0 and L+R=0\"\"\"\n",
    "    return not sum(1j**'RUL'.find(m) for m in moves)\n",
    "\n",
    "\"\"\"use complex number to represent island(simplify 2d -> 1d and turn into a sparse representation)\"\"\"\n",
    "# L695: an island is a group of 1's connected 4-directionally, find the maximum area of an island in the given 2D array.\n",
    "def max_area_of_island(grid: List[List[int]]) -> int:\n",
    "    grid = {i + j * 1j: val for i, row in enumerate(grid) for j, val in enumerate(row)}\n",
    "    \"\"\"calculate the area of paricular island by visit neigher complex calculat\"\"\"\n",
    "    def area(z):\n",
    "        return grid.pop(z, 0) and 1 + sum(area(z + 1j ** k) for k in range(4))\n",
    "    return max(map(area, set(grid)))\n",
    "```"
   ]
  },
  {
   "cell_type": "markdown",
   "metadata": {},
   "source": [
    "***"
   ]
  }
 ],
 "metadata": {
  "kernelspec": {
   "display_name": "Python 3",
   "language": "python",
   "name": "python3"
  },
  "language_info": {
   "codemirror_mode": {
    "name": "ipython",
    "version": 3
   },
   "file_extension": ".py",
   "mimetype": "text/x-python",
   "name": "python",
   "nbconvert_exporter": "python",
   "pygments_lexer": "ipython3",
   "version": "3.5.5"
  }
 },
 "nbformat": 4,
 "nbformat_minor": 2
}

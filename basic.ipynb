{
 "cells": [
  {
   "cell_type": "markdown",
   "metadata": {},
   "source": [
    "# 🐍Python Tricks - Basics"
   ]
  },
  {
   "cell_type": "markdown",
   "metadata": {},
   "source": [
    "This notebook is the practical part of Pluralsight Guides: [Python Tricks - Basic - Part 1](https://www.pluralsight.com/guides/python-tricks-basic-part-1) and [Python Tricks - Basic - Part 2](https://www.pluralsight.com/guides/python-tricks-basic-part-2)"
   ]
  },
  {
   "cell_type": "markdown",
   "metadata": {},
   "source": [
    "## Table of Content:\n",
    "* [Boolean Expression](#anchor1)\n",
    "* [Build Tuple](#anchor2)\n",
    "* [Value of Boolean](#anchor3)\n",
    "* [Ternary Operator](#anchor4)\n",
    "* [Chained Operations](#anchor5)\n",
    "* [Multiple Assignment](#anchor6)\n",
    "* [Mirror Index](#anchor7)\n",
    "* [return None](#anchor8)\n",
    "* [Slice Assignment](#anchor9)\n",
    "* [Maximum/Minimum Integer](#anchor10)\n",
    "* [for else / while else](#anchor11)\n",
    "* [Emulate switch](#anchor12)\n",
    "* [Decorator](#anchor13)\n",
    "* [Modify While Iteration](#anchor14)"
   ]
  },
  {
   "cell_type": "markdown",
   "metadata": {},
   "source": [
    "***"
   ]
  },
  {
   "cell_type": "markdown",
   "metadata": {},
   "source": [
    "## Boolean Expression <a name=\"anchor1\"></a>"
   ]
  },
  {
   "cell_type": "markdown",
   "metadata": {},
   "source": [
    "lazy evaluation, `b` may not be executed"
   ]
  },
  {
   "cell_type": "markdown",
   "metadata": {},
   "source": [
    "### a or b"
   ]
  },
  {
   "cell_type": "markdown",
   "metadata": {},
   "source": [
    "if `a` is the truthy value, return `a`. Otherwise, return `b`."
   ]
  },
  {
   "cell_type": "markdown",
   "metadata": {},
   "source": [
    "Here is the Falsy Values list from official document: \n",
    "\n",
    "- Constants defined to be false: None and False.\n",
    "- Zero of any numeric type: 0, 0.0, 0j, Decimal(0), Fraction(0, 1).\n",
    "- Empty sequences and collections: '', (), [], {}, set(), range(0)."
   ]
  },
  {
   "cell_type": "code",
   "execution_count": 1,
   "metadata": {},
   "outputs": [
    {
     "data": {
      "text/plain": [
       "42"
      ]
     },
     "execution_count": 1,
     "metadata": {},
     "output_type": "execute_result"
    }
   ],
   "source": [
    "a, b = 0, 42\n",
    "a or b"
   ]
  },
  {
   "cell_type": "code",
   "execution_count": 2,
   "metadata": {},
   "outputs": [
    {
     "data": {
      "text/plain": [
       "0"
      ]
     },
     "execution_count": 2,
     "metadata": {},
     "output_type": "execute_result"
    }
   ],
   "source": [
    "a, b = '', 0\n",
    "a or b"
   ]
  },
  {
   "cell_type": "markdown",
   "metadata": {},
   "source": [
    "#### Inspiration:\n",
    "```python\n",
    "\"\"\"connect with a non-empty linked list\"\"\"\n",
    "cur.next = l1 or l2\n",
    "```"
   ]
  },
  {
   "cell_type": "markdown",
   "metadata": {},
   "source": [
    "### a and b"
   ]
  },
  {
   "cell_type": "markdown",
   "metadata": {},
   "source": [
    "if `a` is the falsy value, return `a`. Otherwise, return `b`."
   ]
  },
  {
   "cell_type": "code",
   "execution_count": 3,
   "metadata": {},
   "outputs": [
    {
     "data": {
      "text/plain": [
       "2"
      ]
     },
     "execution_count": 3,
     "metadata": {},
     "output_type": "execute_result"
    }
   ],
   "source": [
    "a, b = 1, 2\n",
    "a and b"
   ]
  },
  {
   "cell_type": "code",
   "execution_count": 4,
   "metadata": {},
   "outputs": [
    {
     "data": {
      "text/plain": [
       "''"
      ]
     },
     "execution_count": 4,
     "metadata": {},
     "output_type": "execute_result"
    }
   ],
   "source": [
    "a, b = '', 'abc'\n",
    "a and b"
   ]
  },
  {
   "cell_type": "markdown",
   "metadata": {},
   "source": [
    "#### Inspiration:\n",
    "```python\n",
    "\"\"\"call function before assignment\"\"\"\n",
    "last = not arr.append(x) and arr[-1]\n",
    "```"
   ]
  },
  {
   "cell_type": "markdown",
   "metadata": {},
   "source": [
    "## Build Tuple <a name=\"anchor2\"></a>"
   ]
  },
  {
   "cell_type": "markdown",
   "metadata": {},
   "source": [
    "Construct a temporary `tuple` for specific usages"
   ]
  },
  {
   "cell_type": "markdown",
   "metadata": {},
   "source": [
    "#### Inspirations:\n",
    "```python\n",
    "\"\"\"build in condition\"\"\"\n",
    "if elem in (elem1, elem2):  # equals to: if elem == elem1 or elem == elem2\n",
    "\n",
    "\"\"\"build result\"\"\"\n",
    "return [dp[-1], -1][dp[-1] == float('inf')]\t\t# equals to if-else, but more concise\n",
    "\n",
    "\"\"\"build 4-neighbors as range\"\"\"\n",
    "for I, J in (i + 1, j), (i - 1, j), (i, j + 1), (i, j - 1):\n",
    "```"
   ]
  },
  {
   "cell_type": "markdown",
   "metadata": {},
   "source": [
    "## Value of Boolean <a name=\"anchor3\"></a>"
   ]
  },
  {
   "cell_type": "code",
   "execution_count": 5,
   "metadata": {},
   "outputs": [
    {
     "data": {
      "text/plain": [
       "(1, 0)"
      ]
     },
     "execution_count": 5,
     "metadata": {},
     "output_type": "execute_result"
    }
   ],
   "source": [
    "int(True), int(False)"
   ]
  },
  {
   "cell_type": "markdown",
   "metadata": {},
   "source": [
    "#### Inspirations:\n",
    "```python\n",
    "\"\"\"used in sum\"\"\"\n",
    "A = sum(a == b for a, b in zip(secret, guess))  \n",
    "\n",
    "\"\"\"used as index\"\"\"\n",
    "return [dp[-1], -1][dp[-1] == float('inf')] \n",
    "\n",
    "\"\"\"used in temporary tuple\"\"\"\n",
    "# find the lowest common ancestor in the binary search tree\n",
    "def lowest_common_ancestor(root: TreeNode, p: TreeNode, q: TreeNode) -> TreeNode:\n",
    "    while (root.val - p.val) * (root.val - q.val) > 0:\n",
    "        root = (root.left, root.right)[p.val > root.val]  # equals to if else, seems more clear\n",
    "    return root\n",
    "\n",
    "# a strobogrammatic number is a number that looks the same when rotated 180 degrees (looked at upside down)\n",
    "# find all strobogrammatic numbers that are of length = n\n",
    "def find_strobogrammatic(n: int) -> List[str]:\n",
    "    \"\"\"used in list initialization\"\"\"\n",
    "    nums = n % 2 * list('018') or ['']\n",
    "    while n > 1:\n",
    "        n -= 2\n",
    "        \"\"\"used in slice\"\"\"\n",
    "        nums = [a + num + b for a, b in '00 11 88 69 96'.split()[n < 2:] for num in nums]\n",
    "    return nums\n",
    "```"
   ]
  },
  {
   "cell_type": "markdown",
   "metadata": {},
   "source": [
    "## Ternary Operator <a name=\"anchor4\"></a>"
   ]
  },
  {
   "cell_type": "markdown",
   "metadata": {},
   "source": [
    "### Built-in Grammar"
   ]
  },
  {
   "cell_type": "markdown",
   "metadata": {},
   "source": [
    "This is the most direct way which is supported since version 2.5. The expression syntax is:"
   ]
  },
  {
   "cell_type": "markdown",
   "metadata": {},
   "source": [
    "```python\n",
    "\"\"\"conditional operator\"\"\"\n",
    "true_expression if condition else false_expression\n",
    "```"
   ]
  },
  {
   "cell_type": "code",
   "execution_count": 6,
   "metadata": {},
   "outputs": [
    {
     "data": {
      "text/plain": [
       "20"
      ]
     },
     "execution_count": 6,
     "metadata": {},
     "output_type": "execute_result"
    }
   ],
   "source": [
    "\"\"\"find maximum in pairs\"\"\"\n",
    "a, b = 10, 20\n",
    "max_val = a if a > b else b\n",
    "max_val"
   ]
  },
  {
   "cell_type": "code",
   "execution_count": 7,
   "metadata": {},
   "outputs": [
    {
     "data": {
      "text/plain": [
       "5"
      ]
     },
     "execution_count": 7,
     "metadata": {},
     "output_type": "execute_result"
    }
   ],
   "source": [
    "\"\"\"find mininmum in triplets\"\"\"\n",
    "a, b, c = 10, 20, 5\n",
    "min_val = a if a < b and a < c else (b if b < c else c)\n",
    "min_val"
   ]
  },
  {
   "cell_type": "markdown",
   "metadata": {},
   "source": [
    "### Boolean Expression Technique"
   ]
  },
  {
   "cell_type": "markdown",
   "metadata": {},
   "source": [
    "For versions prior to 2.5, we can use the boolean expression trick that we have discussed before:"
   ]
  },
  {
   "cell_type": "markdown",
   "metadata": {},
   "source": [
    "```python\n",
    "\"\"\"correct way by encapsulation with tuples\"\"\"\n",
    "\"\"\"(False,) is truthy value\"\"\"\n",
    "(condition and (true_expression,) or (false_expression,))[0]\n",
    "\n",
    "\"\"\"more concise and faster way with limit\"\"\"\n",
    "\"\"\"should make sure true_expression is never falsy\"\"\"\n",
    "condition and true_expression or false_expression\n",
    "```"
   ]
  },
  {
   "cell_type": "markdown",
   "metadata": {},
   "source": [
    "### Boolean Index Technique"
   ]
  },
  {
   "cell_type": "markdown",
   "metadata": {},
   "source": [
    "This solution uses Value of Boolean and Build Tuple tricks."
   ]
  },
  {
   "cell_type": "markdown",
   "metadata": {},
   "source": [
    "```python\n",
    "\"\"\"tuple index\"\"\"\n",
    "\"\"\"for safety we explicitly test for truthiness by bool()\"\"\"\n",
    "(false_expression, true_expression)[bool(condition)]\n",
    "\n",
    "\"\"\"dict index\"\"\"\n",
    "{True: true_expression, False: false_expression}[bool(condition)]\n",
    "\n",
    "\"\"\"lambda version supports lazy evaluation\"\"\"\n",
    "(lambda: false_expression, lambda: true_expression)[bool(condition)]()\n",
    "```"
   ]
  },
  {
   "cell_type": "markdown",
   "metadata": {},
   "source": [
    "### Pack with Boolean Index"
   ]
  },
  {
   "cell_type": "markdown",
   "metadata": {},
   "source": [
    "Here is a elegant pythonic solution. It is packed as function based on Boolean Index Technique solution. It looks pretty clean and easy to read for the caller."
   ]
  },
  {
   "cell_type": "code",
   "execution_count": 8,
   "metadata": {},
   "outputs": [],
   "source": [
    "\"\"\"pack as function\"\"\"\n",
    "\"\"\"not not x equals to bool(x)\"\"\"\n",
    "def _if(condition):\n",
    "    return lambda false_expression: lambda true_expression:\t\\\n",
    "        [delay(true_expression), delay(false_expression)][not not condition]()\n",
    "\n",
    "\"\"\"unified as callable\"\"\"\n",
    "def delay(f):\n",
    "    if callable(f): return f\n",
    "    else: return lambda: f"
   ]
  },
  {
   "cell_type": "code",
   "execution_count": 9,
   "metadata": {},
   "outputs": [
    {
     "data": {
      "text/plain": [
       "10"
      ]
     },
     "execution_count": 9,
     "metadata": {},
     "output_type": "execute_result"
    }
   ],
   "source": [
    "a, b = 10, 20\n",
    "min_val = _if(a < b) (a) (b)\n",
    "min_val"
   ]
  },
  {
   "cell_type": "markdown",
   "metadata": {},
   "source": [
    "## Chained Operations <a name=\"anchor5\"></a>"
   ]
  },
  {
   "cell_type": "markdown",
   "metadata": {},
   "source": [
    "In Python, assignment statements are not expressions and thus do not have a value. Instead, chained assignments are a series of statements with multiple targets for a single expression. The assignments are executed left-to-right."
   ]
  },
  {
   "cell_type": "markdown",
   "metadata": {},
   "source": [
    "### Chained Assignment"
   ]
  },
  {
   "cell_type": "markdown",
   "metadata": {},
   "source": [
    "```python\n",
    "x = y = f()\n",
    "```"
   ]
  },
  {
   "cell_type": "markdown",
   "metadata": {},
   "source": [
    "is equivalent to"
   ]
  },
  {
   "cell_type": "markdown",
   "metadata": {},
   "source": [
    "```python\n",
    "temp = f()\n",
    "x = temp\t# assign from left to right\n",
    "y = temp\n",
    "```"
   ]
  },
  {
   "cell_type": "code",
   "execution_count": 10,
   "metadata": {},
   "outputs": [
    {
     "data": {
      "text/plain": [
       "(1, 1)"
      ]
     },
     "execution_count": 10,
     "metadata": {},
     "output_type": "execute_result"
    }
   ],
   "source": [
    "a = b = 1\n",
    "a, b"
   ]
  },
  {
   "cell_type": "code",
   "execution_count": 11,
   "metadata": {},
   "outputs": [
    {
     "data": {
      "text/plain": [
       "True"
      ]
     },
     "execution_count": 11,
     "metadata": {},
     "output_type": "execute_result"
    }
   ],
   "source": [
    "import random\n",
    "x = y = random.random()\n",
    "x == y"
   ]
  },
  {
   "cell_type": "code",
   "execution_count": 12,
   "metadata": {},
   "outputs": [
    {
     "data": {
      "text/plain": [
       "False"
      ]
     },
     "execution_count": 12,
     "metadata": {},
     "output_type": "execute_result"
    }
   ],
   "source": [
    "x = random.random()\n",
    "y = random.random()\n",
    "x == y"
   ]
  },
  {
   "cell_type": "markdown",
   "metadata": {},
   "source": [
    "#### Inspiration:\n",
    "```python\n",
    "\"\"\"initialize dummy node and assign to cur\"\"\"\n",
    "dummy = ListNode(0)\n",
    "cur = dummy.next = head\n",
    "```"
   ]
  },
  {
   "cell_type": "markdown",
   "metadata": {},
   "source": [
    "### Chained Comparison\n",
    "Chained Comparison is a nice syntactic sugar in Python to simplify expression."
   ]
  },
  {
   "cell_type": "code",
   "execution_count": 13,
   "metadata": {
    "scrolled": true
   },
   "outputs": [
    {
     "data": {
      "text/plain": [
       "True"
      ]
     },
     "execution_count": 13,
     "metadata": {},
     "output_type": "execute_result"
    }
   ],
   "source": [
    "a == b == 1"
   ]
  },
  {
   "cell_type": "code",
   "execution_count": 14,
   "metadata": {},
   "outputs": [
    {
     "data": {
      "text/plain": [
       "True"
      ]
     },
     "execution_count": 14,
     "metadata": {},
     "output_type": "execute_result"
    }
   ],
   "source": [
    "a == b != 2"
   ]
  },
  {
   "cell_type": "code",
   "execution_count": 15,
   "metadata": {},
   "outputs": [
    {
     "data": {
      "text/plain": [
       "True"
      ]
     },
     "execution_count": 15,
     "metadata": {},
     "output_type": "execute_result"
    }
   ],
   "source": [
    "0 <= a < 4"
   ]
  },
  {
   "cell_type": "markdown",
   "metadata": {},
   "source": [
    "#### Inspirations:\n",
    "```python\n",
    "\"\"\"short for a > 0 and b >= 0\"\"\"\n",
    "if a > 0 <= b:\n",
    "    \n",
    "\"\"\"chained comparison in binary search\"\"\"\n",
    "if nums[lo] < target < nums[mid]:\n",
    "    hi = mid - 1\n",
    "    \n",
    "\"\"\"check matrix boundary in a unified way\"\"\"\n",
    "for i in range(len(matrix)):\n",
    "    for j in range(len(matrix[0])):\n",
    "        # construct neighbor iterator\n",
    "        for I, J in (i + 1, j), (i - 1, j), (i, j + 1), (i, j - 1):\n",
    "            # although add some unnecessary checks, expression is more concise\n",
    "            if 0 <= I < len(matrix) and 0 <= J < len(matrix[0]):\n",
    "                process_neighbor_logic(matrix[I][J])\n",
    "```"
   ]
  },
  {
   "cell_type": "markdown",
   "metadata": {},
   "source": [
    "## Multiple Assignment <a name=\"anchor6\"></a>"
   ]
  },
  {
   "cell_type": "markdown",
   "metadata": {},
   "source": [
    "Multiple assignment can assign multiple variables at the \"same time\", and it is useful in multiple initialization or swap."
   ]
  },
  {
   "cell_type": "code",
   "execution_count": 16,
   "metadata": {},
   "outputs": [
    {
     "data": {
      "text/plain": [
       "(2, 1)"
      ]
     },
     "execution_count": 16,
     "metadata": {},
     "output_type": "execute_result"
    }
   ],
   "source": [
    "\"\"\"multiple initialization\"\"\"\n",
    "a, b = 1, 2\n",
    "\"\"\"swap\"\"\"\n",
    "a, b = b, a\n",
    "a, b"
   ]
  },
  {
   "cell_type": "markdown",
   "metadata": {},
   "source": [
    "#### Inspiration:\n",
    "```python\n",
    "\"\"\"next assignment in linked list\"\"\"\n",
    "# revserse a linked list\n",
    "def reverse(head: ListNode) -> ListNode:\n",
    "    prev, cur = None, head\n",
    "    while cur:\n",
    "        cur.next, cur, prev = prev, cur.next, cur\n",
    "    return prev\n",
    "```"
   ]
  },
  {
   "cell_type": "markdown",
   "metadata": {},
   "source": [
    "actually this is a **pack-unpack** technique.\n",
    "```python\n",
    "a, b = b, a\n",
    "```\n",
    "is equivalent to \n",
    "```python\n",
    "pack = (b, a)\n",
    "a = pack[0]\n",
    "b = pack[1]\n",
    "```"
   ]
  },
  {
   "cell_type": "markdown",
   "metadata": {},
   "source": [
    "so be careful with the **assignment order** in complex scenario, for example:\n",
    "\n",
    "**wrong version**:\n",
    "```python\n",
    "\"\"\"nums[0] has been changed before usage\"\"\"\n",
    "nums[0], nums[nums[0]] = nums[nums[0]], nums[0]\n",
    "```\n",
    "**right version**:\n",
    "```python\n",
    "nums[nums[0]], nums[0] = nums[0], nums[nums[0]]\n",
    "\n",
    "```\n",
    "**wrong version**:\n",
    "```python\n",
    "\"\"\"cur.next has been changed before usage\"\"\"\n",
    "cur.next, cur.next.next.next, cur.next.next = cur.next.next, cur.next, cur.next.next.next\n",
    "```\n",
    "**right version**:\n",
    "```python\n",
    "cur.next.next.next, cur.next.next, cur.next = cur.next, cur.next.next.next, cur.next.next\n",
    "```"
   ]
  },
  {
   "cell_type": "markdown",
   "metadata": {},
   "source": [
    "## Mirror Index <a name=\"anchor7\"></a>"
   ]
  },
  {
   "cell_type": "markdown",
   "metadata": {},
   "source": [
    "If you are confused about negative index, and looking for another way to index backwards more understandably, you can try mirror index ~, it is a mirror of forward. It starts from right-most with ~0, which is more unified."
   ]
  },
  {
   "cell_type": "markdown",
   "metadata": {},
   "source": [
    "`~` actually is a math trick of inverse code and complement code, and it is more easy-understanding in some situations.    \n",
    "refer to my answer in https://stackoverflow.com/q/55684960/11263560"
   ]
  },
  {
   "cell_type": "code",
   "execution_count": 17,
   "metadata": {},
   "outputs": [
    {
     "data": {
      "text/plain": [
       "('d', 'c')"
      ]
     },
     "execution_count": 17,
     "metadata": {},
     "output_type": "execute_result"
    }
   ],
   "source": [
    "\"\"\"index start from right to left\"\"\"\n",
    "arr = [\"a\", \"b\", \"c\", \"d\"]\n",
    "arr[~0], arr[~1]"
   ]
  },
  {
   "cell_type": "markdown",
   "metadata": {},
   "source": [
    "#### Inspirations:\n",
    "```python\n",
    "\"\"\"swap mirror node\"\"\"\n",
    "def reverse(arr: List[int]) -> None:\n",
    "    for i in range(len(arr) // 2):\n",
    "        arr[i], arr[~i] = arr[~i], arr[i]\n",
    "\n",
    "\"\"\"find median in a sort list\"\"\"\n",
    "def median(arr: List[float]) -> float:\n",
    "    mid = len(arr) // 2\n",
    "    return (arr[mid] + arr[~mid]) / 2\n",
    "\n",
    "\"\"\"deal with mirror pairs\"\"\"\n",
    "# verify the number is strobogrammatic, strobogrammatic number looks the same when rotated 180 degrees\n",
    "def is_strobogrammatic(num: str) -> bool:\n",
    "    return all(num[i] + num[~i] in '696 00 11 88' for i in range(len(num) // 2 + 1))\n",
    "```"
   ]
  },
  {
   "cell_type": "markdown",
   "metadata": {},
   "source": [
    "## return None <a name=\"anchor8\"></a>"
   ]
  },
  {
   "cell_type": "markdown",
   "metadata": {},
   "source": [
    "`return None` equals to `return`, equals to no return at all"
   ]
  },
  {
   "cell_type": "markdown",
   "metadata": {},
   "source": [
    "#### Inspiration:\n",
    "```python\n",
    "\"\"\"no return equals to return None, more concise\"\"\"\n",
    "# invert a binary tree\n",
    "def invert_tree(root: TreeNode) -> TreeNode:\n",
    "    if root:\n",
    "        root.left, root.right = invertTree(root.right), invertTree(root.left)\n",
    "        return root\n",
    "```"
   ]
  },
  {
   "cell_type": "markdown",
   "metadata": {},
   "source": [
    "## Slice Assignment <a name=\"anchor9\"></a>"
   ]
  },
  {
   "cell_type": "code",
   "execution_count": 18,
   "metadata": {},
   "outputs": [
    {
     "data": {
      "text/plain": [
       "[0, 6, 7, 1, 2, 3, 4, 5]"
      ]
     },
     "execution_count": 18,
     "metadata": {},
     "output_type": "execute_result"
    }
   ],
   "source": [
    "arr = [0, 1, 2, 3, 4, 5]\n",
    "\n",
    "\"\"\"insert\"\"\"\n",
    "arr[1:1] = [6, 7]\n",
    "arr"
   ]
  },
  {
   "cell_type": "code",
   "execution_count": 19,
   "metadata": {},
   "outputs": [
    {
     "data": {
      "text/plain": [
       "[0, 1, 2, 3, 4, 5]"
      ]
     },
     "execution_count": 19,
     "metadata": {},
     "output_type": "execute_result"
    }
   ],
   "source": [
    "\"\"\"delete\"\"\"\n",
    "arr[1:3] = []\n",
    "arr"
   ]
  },
  {
   "cell_type": "code",
   "execution_count": 20,
   "metadata": {},
   "outputs": [
    {
     "data": {
      "text/plain": [
       "[0, 6, 7, 3, 4, 5]"
      ]
     },
     "execution_count": 20,
     "metadata": {},
     "output_type": "execute_result"
    }
   ],
   "source": [
    "\"\"\"replace\"\"\"\n",
    "arr[1:3] = [6, 7]\n",
    "arr"
   ]
  },
  {
   "cell_type": "code",
   "execution_count": 21,
   "metadata": {},
   "outputs": [
    {
     "data": {
      "text/plain": [
       "[0, 6, 7, 3, 2, 2, 2]"
      ]
     },
     "execution_count": 21,
     "metadata": {},
     "output_type": "execute_result"
    }
   ],
   "source": [
    "\"\"\"replace slice with different size\"\"\"\n",
    "arr[-2:] = [2] * 3\n",
    "arr"
   ]
  },
  {
   "cell_type": "code",
   "execution_count": 22,
   "metadata": {},
   "outputs": [
    {
     "data": {
      "text/plain": [
       "[1, 2, 3]"
      ]
     },
     "execution_count": 22,
     "metadata": {},
     "output_type": "execute_result"
    }
   ],
   "source": [
    "\"\"\"replace the entire list\"\"\"\n",
    "arr[:] = [1, 2, 3]\n",
    "arr"
   ]
  },
  {
   "cell_type": "markdown",
   "metadata": {},
   "source": [
    "#### Inspiration:\n",
    "```python\n",
    "\"\"\"replace(or batch assignment) by slice assignment\"\"\"\n",
    "# reorder unsort array in-place such that nums[0] <= nums[1] >= nums[2] <= nums[3]...\n",
    "def wiggle_sort(nums: List[int]) -> None:\n",
    "    for i in range(len(nums)):\n",
    "        nums[i:i+2] = sorted(nums[i:i+2], reverse=i%2)\n",
    "```"
   ]
  },
  {
   "cell_type": "markdown",
   "metadata": {},
   "source": [
    "## Maximum/Minimum Integer <a name=\"anchor10\"></a>"
   ]
  },
  {
   "cell_type": "markdown",
   "metadata": {},
   "source": [
    "If you need something like int32_max, int32_min, use `float('inf')`, `float('-inf')` instead. Thanks to the dynamic typing of Python."
   ]
  },
  {
   "cell_type": "code",
   "execution_count": 23,
   "metadata": {
    "scrolled": true
   },
   "outputs": [
    {
     "data": {
      "text/plain": [
       "(0, 9)"
      ]
     },
     "execution_count": 23,
     "metadata": {},
     "output_type": "execute_result"
    }
   ],
   "source": [
    "\"\"\"float('inf'), float('-inf') as the initial value of min_val and max_val\"\"\"\n",
    "min_val, max_val = float('inf'), float('-inf')\n",
    "\n",
    "for i in range(10):\n",
    "    min_val = min(min_val, i)\n",
    "    max_val = max(max_val, i)\n",
    "(min_val, max_val)"
   ]
  },
  {
   "cell_type": "markdown",
   "metadata": {},
   "source": [
    "## for else / while else <a name=\"anchor11\"></a>"
   ]
  },
  {
   "cell_type": "markdown",
   "metadata": {},
   "source": [
    "Used when you care about both `break` and `non-break` logics. In this way, we can omit the tracking variable."
   ]
  },
  {
   "cell_type": "markdown",
   "metadata": {},
   "source": [
    "```python\n",
    "found_obj = None\n",
    "for obj in objects:\n",
    "    if obj.key == search_key:\n",
    "        found_obj = obj\n",
    "        break\n",
    "else:\t# no break\n",
    "    print('no object found')\n",
    "```"
   ]
  },
  {
   "cell_type": "markdown",
   "metadata": {},
   "source": [
    "## Emulate switch <a name=\"anchor12\"></a>"
   ]
  },
  {
   "cell_type": "markdown",
   "metadata": {},
   "source": [
    "Use dictionary mapping (associative array) with lambda:"
   ]
  },
  {
   "cell_type": "code",
   "execution_count": 24,
   "metadata": {
    "scrolled": false
   },
   "outputs": [
    {
     "data": {
      "text/plain": [
       "6"
      ]
     },
     "execution_count": 24,
     "metadata": {},
     "output_type": "execute_result"
    }
   ],
   "source": [
    "\"\"\"emulate switch/case with dict mapping\"\"\"\n",
    "def op_dict(operator: str, x: float, y: float) -> float:\n",
    "     return {\n",
    "         '+': lambda: x + y,\n",
    "         '-': lambda: x - y,\n",
    "         '*': lambda: x * y,\n",
    "         '/': lambda: x / y,\n",
    "     }.get(operator, lambda: None)()\n",
    "\n",
    "op_dict('*', 2, 3)"
   ]
  },
  {
   "cell_type": "markdown",
   "metadata": {},
   "source": [
    "## Decorator <a name=\"anchor13\"></a>"
   ]
  },
  {
   "cell_type": "markdown",
   "metadata": {},
   "source": [
    "Use decorator technique to decorate the Fibonacci function. Enhance it with memoization."
   ]
  },
  {
   "cell_type": "code",
   "execution_count": 25,
   "metadata": {},
   "outputs": [
    {
     "data": {
      "text/plain": [
       "55"
      ]
     },
     "execution_count": 25,
     "metadata": {},
     "output_type": "execute_result"
    }
   ],
   "source": [
    "from functools import wraps\n",
    "def memoization(func):\n",
    "    cache = {}\n",
    "    miss = object()\n",
    " \n",
    "    @wraps(func)\n",
    "    def wrapper(*args):\n",
    "        result = cache.get(args, miss)\n",
    "        if result is miss:\n",
    "            result = func(*args)\n",
    "            cache[args] = result\n",
    "        return result\n",
    " \n",
    "    return wrapper\n",
    " \n",
    "@memoization\n",
    "def fib(n):\n",
    "    if n < 2:\n",
    "        return n\n",
    "    return fib(n - 1) + fib(n - 2)\n",
    "\n",
    "fib(10)"
   ]
  },
  {
   "cell_type": "markdown",
   "metadata": {},
   "source": [
    "## Modify While Iteration <a name=\"anchor14\"></a>"
   ]
  },
  {
   "cell_type": "markdown",
   "metadata": {},
   "source": [
    "instead of `queue` in [bfs](https://en.wikipedia.org/wiki/Breadth-first_search), more concise, but use more memory. for the scenario you need the whole path, it is a better way."
   ]
  },
  {
   "cell_type": "markdown",
   "metadata": {},
   "source": [
    "#### Inspiration:\n",
    "```python\n",
    "\"\"\"bfs with list, append while iteration, if you need whole path, it is better here.\"\"\"\n",
    "# given n processes, each process has a unique PID (process id) and its PPID (parent process id)\n",
    "# kill represents a process you want to kill, return a list of PIDs of processes that will be killed in the end\n",
    "def kill_process(pid: List[int], ppid: List[int], kill: int) -> List[int]:\n",
    "    d = defaultdict(list)\n",
    "    for c, p in zip(pid, ppid):\n",
    "        d[p].append(c)\n",
    "    bfs = [kill]\n",
    "    for i in bfs:\n",
    "        bfs += d[i]\n",
    "    return bfs\n",
    "```"
   ]
  },
  {
   "cell_type": "markdown",
   "metadata": {},
   "source": [
    "***"
   ]
  }
 ],
 "metadata": {
  "kernelspec": {
   "display_name": "Python 3",
   "language": "python",
   "name": "python3"
  },
  "language_info": {
   "codemirror_mode": {
    "name": "ipython",
    "version": 3
   },
   "file_extension": ".py",
   "mimetype": "text/x-python",
   "name": "python",
   "nbconvert_exporter": "python",
   "pygments_lexer": "ipython3",
   "version": "3.5.5"
  }
 },
 "nbformat": 4,
 "nbformat_minor": 2
}

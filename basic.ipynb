{
 "cells": [
  {
   "cell_type": "markdown",
   "metadata": {},
   "source": [
    "# 🐍Python Tricks - Basics"
   ]
  },
  {
   "cell_type": "markdown",
   "metadata": {},
   "source": [
    "## table of content:\n",
    "* [conditional assignment](#anchor1)\n",
    "* [value of boolean](#anchor2)\n",
    "* [chained operations](#anchor3)\n",
    "* [mirror index](#anchor4)\n",
    "* [return None](#anchor5)\n",
    "* [multiple assignment](#anchor6)\n",
    "* [slice assignment](#anchor7)\n",
    "* [max/min number](#anchor8)\n",
    "* [build tuple](#anchor9)\n",
    "* [for else / while else](#anchor10)\n",
    "* [+= ,](#anchor11)\n",
    "* [light weight switch](#anchor12)\n",
    "* [decorator](#anchor13)\n",
    "* [modify while iteration](#anchor14)"
   ]
  },
  {
   "cell_type": "markdown",
   "metadata": {},
   "source": [
    "***"
   ]
  },
  {
   "cell_type": "markdown",
   "metadata": {},
   "source": [
    "## conditional assignment <a name=\"anchor1\"></a>\n",
    "lazy evaluation, `b` may not be executed"
   ]
  },
  {
   "cell_type": "markdown",
   "metadata": {},
   "source": [
    "### a or b"
   ]
  },
  {
   "cell_type": "code",
   "execution_count": 1,
   "metadata": {},
   "outputs": [
    {
     "data": {
      "text/plain": [
       "42"
      ]
     },
     "execution_count": 1,
     "metadata": {},
     "output_type": "execute_result"
    }
   ],
   "source": [
    "\"\"\"if a is not None return a, otherwise, return b\"\"\"\n",
    "a, b = 0, 42\n",
    "a or b"
   ]
  },
  {
   "cell_type": "markdown",
   "metadata": {},
   "source": [
    "#### Inspiration:\n",
    "```python\n",
    "\"\"\"assign the non-empty one in linked list\"\"\"\n",
    "cur.next = l1 or l2\n",
    "```"
   ]
  },
  {
   "cell_type": "markdown",
   "metadata": {},
   "source": [
    "### a and b"
   ]
  },
  {
   "cell_type": "code",
   "execution_count": 2,
   "metadata": {},
   "outputs": [
    {
     "data": {
      "text/plain": [
       "2"
      ]
     },
     "execution_count": 2,
     "metadata": {},
     "output_type": "execute_result"
    }
   ],
   "source": [
    "\"\"\"if one of a, b is None, return None, otherwise, return b\"\"\"\n",
    "a, b = 1, 2\n",
    "a and b"
   ]
  },
  {
   "cell_type": "markdown",
   "metadata": {},
   "source": [
    "#### Inspiration:\n",
    "```python\n",
    "\"\"\"call function before assignment\"\"\"\n",
    "last = not arr.append(x) and arr[-1]\n",
    "```"
   ]
  },
  {
   "cell_type": "markdown",
   "metadata": {},
   "source": [
    "### a if condition else b"
   ]
  },
  {
   "cell_type": "markdown",
   "metadata": {},
   "source": [
    "```python\n",
    "\"\"\"conditional operator\"\"\"\n",
    "<value if true> if <condition> else <value if false>\n",
    "```"
   ]
  },
  {
   "cell_type": "code",
   "execution_count": 3,
   "metadata": {},
   "outputs": [
    {
     "data": {
      "text/plain": [
       "5"
      ]
     },
     "execution_count": 3,
     "metadata": {},
     "output_type": "execute_result"
    }
   ],
   "source": [
    "\"\"\"find mininmum in triplets\"\"\"\n",
    "a, b, c = 10, 20, 5\n",
    "min_val = a if a < b and a < c else (b if b < c else c)\n",
    "min_val"
   ]
  },
  {
   "cell_type": "markdown",
   "metadata": {},
   "source": [
    "## value of boolean <a name=\"anchor2\"></a>"
   ]
  },
  {
   "cell_type": "code",
   "execution_count": 4,
   "metadata": {},
   "outputs": [
    {
     "data": {
      "text/plain": [
       "(1, 0)"
      ]
     },
     "execution_count": 4,
     "metadata": {},
     "output_type": "execute_result"
    }
   ],
   "source": [
    "int(True), int(False)"
   ]
  },
  {
   "cell_type": "markdown",
   "metadata": {},
   "source": [
    "#### Inspirations:\n",
    "```python\n",
    "\"\"\"used in sum\"\"\"\n",
    "A = sum(a == b for a, b in zip(secret, guess))  \n",
    "\n",
    "\"\"\"used in index\"\"\"\n",
    "return [dp[amount], -1][dp[amount] == MAX] \n",
    "\n",
    "# a strobogrammatic number is a number that looks the same when rotated 180 degrees (looked at upside down)\n",
    "# find all strobogrammatic numbers that are of length = n\n",
    "def find_strobogrammatic(n: int) -> List[str]:\n",
    "    \"\"\"used in list initialization\"\"\"\n",
    "    nums = n % 2 * list('018') or ['']\n",
    "    while n > 1:\n",
    "        n -= 2\n",
    "        \"\"\"used in slice\"\"\"\n",
    "        nums = [a + num + b for a, b in '00 11 88 69 96'.split()[n < 2:] for num in nums]\n",
    "    return nums\n",
    "    \n",
    "\"\"\"used in temporary tuple\"\"\"\n",
    "# find the lowest common ancestor in the binary search tree\n",
    "def lowest_common_ancestor(root: TreeNode, p: TreeNode, q: TreeNode) -> TreeNode:\n",
    "    while (root.val - p.val) * (root.val - q.val) > 0:\n",
    "        root = (root.left, root.right)[p.val > root.val]  # equals to if else, seems more clear\n",
    "    return root\n",
    "```"
   ]
  },
  {
   "cell_type": "markdown",
   "metadata": {},
   "source": [
    "## chained operations <a name=\"anchor3\"></a>"
   ]
  },
  {
   "cell_type": "markdown",
   "metadata": {},
   "source": [
    "### chained assignment"
   ]
  },
  {
   "cell_type": "code",
   "execution_count": 5,
   "metadata": {},
   "outputs": [
    {
     "data": {
      "text/plain": [
       "(1, 1)"
      ]
     },
     "execution_count": 5,
     "metadata": {},
     "output_type": "execute_result"
    }
   ],
   "source": [
    "a = b = 1\n",
    "a, b"
   ]
  },
  {
   "cell_type": "markdown",
   "metadata": {},
   "source": [
    "#### Inspiration:\n",
    "```python\n",
    "\"\"\"initialize dummy node and assign to cur\"\"\"\n",
    "cur = dummy = ListNode(0)\n",
    "```"
   ]
  },
  {
   "cell_type": "markdown",
   "metadata": {},
   "source": [
    "### chained comparison\n",
    "more unstandable and concise"
   ]
  },
  {
   "cell_type": "code",
   "execution_count": 6,
   "metadata": {
    "scrolled": true
   },
   "outputs": [
    {
     "data": {
      "text/plain": [
       "True"
      ]
     },
     "execution_count": 6,
     "metadata": {},
     "output_type": "execute_result"
    }
   ],
   "source": [
    "a == b == 1"
   ]
  },
  {
   "cell_type": "code",
   "execution_count": 7,
   "metadata": {},
   "outputs": [
    {
     "data": {
      "text/plain": [
       "True"
      ]
     },
     "execution_count": 7,
     "metadata": {},
     "output_type": "execute_result"
    }
   ],
   "source": [
    "a == b != 2"
   ]
  },
  {
   "cell_type": "code",
   "execution_count": 8,
   "metadata": {},
   "outputs": [
    {
     "data": {
      "text/plain": [
       "True"
      ]
     },
     "execution_count": 8,
     "metadata": {},
     "output_type": "execute_result"
    }
   ],
   "source": [
    "0 <= a < 4"
   ]
  },
  {
   "cell_type": "markdown",
   "metadata": {},
   "source": [
    "#### Inspirations:\n",
    "```python\n",
    "\"\"\"short for a > 0 and b >= 0\"\"\"\n",
    "if a > 0 <= b:\n",
    "    \n",
    "\"\"\"chained comparison in binary search\"\"\"\n",
    "if nums[lo] < target < nums[mid]:\n",
    "    hi = mid - 1\n",
    "    \n",
    "\"\"\"check matrix boundary consistently\"\"\"\n",
    "for i in range(len(matrix)):\n",
    "    for j in range(len(matrix[0])):\n",
    "        # construct neighbor iterator\n",
    "        for I, J in (i + 1, j), (i - 1, j), (i, j + 1), (i, j - 1):\n",
    "            # check boundary\n",
    "            if 0 <= I < len(matrix) and 0 <= J < len(matrix[0]):\n",
    "                process_neighbor_logic(matrix[I][J])\n",
    "```"
   ]
  },
  {
   "cell_type": "markdown",
   "metadata": {},
   "source": [
    "## mirror index <a name=\"anchor4\"></a>"
   ]
  },
  {
   "cell_type": "markdown",
   "metadata": {},
   "source": [
    "`~`get the mirror index, start from right-most"
   ]
  },
  {
   "cell_type": "code",
   "execution_count": 9,
   "metadata": {},
   "outputs": [
    {
     "data": {
      "text/plain": [
       "('d', 'c')"
      ]
     },
     "execution_count": 9,
     "metadata": {},
     "output_type": "execute_result"
    }
   ],
   "source": [
    "\"\"\"index start from right to left\"\"\"\n",
    "arr = [\"a\", \"b\", \"c\", \"d\"]\n",
    "arr[~0], arr[~1]"
   ]
  },
  {
   "cell_type": "markdown",
   "metadata": {},
   "source": [
    "#### Inspirations:\n",
    "```python\n",
    "\"\"\"swap mirror node\"\"\"\n",
    "def reverse(arr: List[int]) -> None:\n",
    "    for i in range(len(arr) // 2):\n",
    "        arr[i], arr[~i] = arr[~i], arr[i]\n",
    "\n",
    "\"\"\"find median in a sort list\"\"\"\n",
    "def median(arr: List[float]) -> float:\n",
    "    mid = len(arr) // 2\n",
    "    return (arr[mid] + arr[~mid]) / 2\n",
    "\n",
    "\"\"\"deal with mirror pairs\"\"\"\n",
    "# verify the number is strobogrammatic, strobogrammatic number looks the same when rotated 180 degrees\n",
    "def is_strobogrammatic(num: str) -> bool:\n",
    "    return all(num[i] + num[~i] in '696 00 11 88' for i in range(len(num)//2+1))\n",
    "```"
   ]
  },
  {
   "cell_type": "markdown",
   "metadata": {},
   "source": [
    "`~` actually is a math trick of inverse code and complement code, and it is more easy-understanding in some situations."
   ]
  },
  {
   "cell_type": "markdown",
   "metadata": {},
   "source": [
    "## return None <a name=\"anchor5\"></a>"
   ]
  },
  {
   "cell_type": "markdown",
   "metadata": {},
   "source": [
    "`return None` equals to `return`, equals to no return at all"
   ]
  },
  {
   "cell_type": "markdown",
   "metadata": {},
   "source": [
    "#### Inspiration:\n",
    "```python\n",
    "\"\"\"no return equals to return None, more concise\"\"\"\n",
    "# invert a binary tree\n",
    "def invert_tree(root: TreeNode) -> TreeNode:\n",
    "    if root:\n",
    "        root.left, root.right = invertTree(root.right), invertTree(root.left)\n",
    "        return root\n",
    "```"
   ]
  },
  {
   "cell_type": "markdown",
   "metadata": {},
   "source": [
    "## multiple assignment <a name=\"anchor6\"></a>"
   ]
  },
  {
   "cell_type": "markdown",
   "metadata": {},
   "source": [
    "multiple assignment can assign multiple variables **at same time**, and it is useful in multiple initialization or swap."
   ]
  },
  {
   "cell_type": "code",
   "execution_count": 10,
   "metadata": {},
   "outputs": [
    {
     "data": {
      "text/plain": [
       "(2, 1)"
      ]
     },
     "execution_count": 10,
     "metadata": {},
     "output_type": "execute_result"
    }
   ],
   "source": [
    "\"\"\"multiple initialization\"\"\"\n",
    "a, b = 1, 2\n",
    "\"\"\"swap\"\"\"\n",
    "a, b = b, a\n",
    "a, b"
   ]
  },
  {
   "cell_type": "markdown",
   "metadata": {},
   "source": [
    "#### Inspiration:\n",
    "```python\n",
    "\"\"\"next assignment in linked list\"\"\"\n",
    "# revserse a linked list\n",
    "def reverse(head: ListNode) -> ListNode:\n",
    "    prev, cur = None, head\n",
    "    while cur:\n",
    "        cur.next, cur, prev = prev, cur.next, cur\n",
    "    return prev\n",
    "```"
   ]
  },
  {
   "cell_type": "markdown",
   "metadata": {},
   "source": [
    "actually this is a **pack-unpack** technique.\n",
    "```python\n",
    "a, b = b, a\n",
    "```\n",
    "is equivalent to \n",
    "```python\n",
    "pack = (b, a)\n",
    "a = pack[0]\n",
    "b = pack[1]\n",
    "```"
   ]
  },
  {
   "cell_type": "markdown",
   "metadata": {},
   "source": [
    "so be careful with the **assignment order** in complex scenario, for example:\n",
    "\n",
    "**wrong version**:\n",
    "```python\n",
    "\"\"\"nums[0] has been changed before usage\"\"\"\n",
    "nums[0], nums[nums[0]] = nums[nums[0]], nums[0]\n",
    "```\n",
    "**right version**:\n",
    "```python\n",
    "nums[nums[0]], nums[0] = nums[0], nums[nums[0]]\n",
    "\n",
    "```\n",
    "**wrong version**:\n",
    "```python\n",
    "\"\"\"cur.next has been changed before usage\"\"\"\n",
    "cur.next, cur.next.next.next, cur.next.next = cur.next.next, cur.next, cur.next.next.next\n",
    "```\n",
    "**right version**:\n",
    "```python\n",
    "cur.next.next.next, cur.next.next, cur.next = cur.next, cur.next.next.next, cur.next.next\n",
    "```"
   ]
  },
  {
   "cell_type": "markdown",
   "metadata": {},
   "source": [
    "## slice assignment <a name=\"anchor\"></a>"
   ]
  },
  {
   "cell_type": "code",
   "execution_count": 11,
   "metadata": {},
   "outputs": [
    {
     "data": {
      "text/plain": [
       "[0, 6, 7, 1, 2, 3, 4, 5]"
      ]
     },
     "execution_count": 11,
     "metadata": {},
     "output_type": "execute_result"
    }
   ],
   "source": [
    "arr = [0, 1, 2, 3, 4, 5]\n",
    "\n",
    "\"\"\"insert\"\"\"\n",
    "arr[1:1] = [6, 7]\n",
    "arr"
   ]
  },
  {
   "cell_type": "code",
   "execution_count": 12,
   "metadata": {},
   "outputs": [
    {
     "data": {
      "text/plain": [
       "[0, 1, 2, 3, 4, 5]"
      ]
     },
     "execution_count": 12,
     "metadata": {},
     "output_type": "execute_result"
    }
   ],
   "source": [
    "\"\"\"delete\"\"\"\n",
    "arr[1:3] = []\n",
    "arr"
   ]
  },
  {
   "cell_type": "code",
   "execution_count": 13,
   "metadata": {},
   "outputs": [
    {
     "data": {
      "text/plain": [
       "[0, 6, 7, 3, 4, 5]"
      ]
     },
     "execution_count": 13,
     "metadata": {},
     "output_type": "execute_result"
    }
   ],
   "source": [
    "\"\"\"replace\"\"\"\n",
    "arr[1:3] = [6, 7]\n",
    "arr"
   ]
  },
  {
   "cell_type": "code",
   "execution_count": 14,
   "metadata": {},
   "outputs": [
    {
     "data": {
      "text/plain": [
       "[0, 6, 6, 6, 6, 6, 6, 3, 4, 5]"
      ]
     },
     "execution_count": 14,
     "metadata": {},
     "output_type": "execute_result"
    }
   ],
   "source": [
    "\"\"\"replace slice with different size\"\"\"\n",
    "arr[1:3] = [6] * 6\n",
    "arr"
   ]
  },
  {
   "cell_type": "markdown",
   "metadata": {},
   "source": [
    "#### Inspiration:\n",
    "```python\n",
    "\"\"\"replace(or batch assignment) by slice assignment\"\"\"\n",
    "# reorder unsort array in-place such that nums[0] <= nums[1] >= nums[2] <= nums[3]...\n",
    "def wiggle_sort(nums: List[int]) -> None:\n",
    "    for i in range(len(nums)):\n",
    "        nums[i:i+2] = sorted(nums[i:i+2], reverse=i%2)\n",
    "```"
   ]
  },
  {
   "cell_type": "markdown",
   "metadata": {},
   "source": [
    "## max/min number <a name=\"anchor8\"></a>"
   ]
  },
  {
   "cell_type": "markdown",
   "metadata": {},
   "source": [
    "if you need something like int32_max, int32_min, use `float('inf')`, `float('-inf')` instead, because of dynamic type"
   ]
  },
  {
   "cell_type": "code",
   "execution_count": 15,
   "metadata": {
    "scrolled": true
   },
   "outputs": [
    {
     "data": {
      "text/plain": [
       "(0, 9)"
      ]
     },
     "execution_count": 15,
     "metadata": {},
     "output_type": "execute_result"
    }
   ],
   "source": [
    "\"\"\"float('inf'), float('-inf') as the initial value of min_val and max_val\"\"\"\n",
    "min_val, max_val = float('inf'), float('-inf')\n",
    "\n",
    "for i in range(10):\n",
    "    min_val = min(min_val, i)\n",
    "    max_val = max(max_val, i)\n",
    "(min_val, max_val)"
   ]
  },
  {
   "cell_type": "markdown",
   "metadata": {},
   "source": [
    "## build tuple <a name=\"anchor9\"></a>"
   ]
  },
  {
   "cell_type": "markdown",
   "metadata": {},
   "source": [
    "build temporary `tuple` for specific usages"
   ]
  },
  {
   "cell_type": "markdown",
   "metadata": {},
   "source": [
    "#### Inspirations:\n",
    "```python\n",
    "\"\"\"build in condition\"\"\"\n",
    "if elem in (elem1, elem2):  # equals to: if elem == elem1 or elem == elem2\n",
    "\n",
    "\"\"\"build result\"\"\"\n",
    "return [dp[amount], -1][dp[amount] == MAX]\n",
    "\n",
    "\"\"\"build neighbors\"\"\"\n",
    "for I, J in (i + 1, j), (i - 1, j), (i, j + 1), (i, j - 1):\n",
    "```"
   ]
  },
  {
   "cell_type": "markdown",
   "metadata": {},
   "source": [
    "## for else / while else <a name=\"anchor10\"></a>"
   ]
  },
  {
   "cell_type": "markdown",
   "metadata": {},
   "source": [
    "used when you care about both `break` and `non-break` logics"
   ]
  },
  {
   "cell_type": "code",
   "execution_count": 16,
   "metadata": {},
   "outputs": [
    {
     "name": "stdout",
     "output_type": "stream",
     "text": [
      "can not find 5!\n"
     ]
    }
   ],
   "source": [
    "for x in range(5):\n",
    "    if x == 5:\n",
    "        print('find 5')\n",
    "        break\n",
    "else:\n",
    "    print('can not find 5!')"
   ]
  },
  {
   "cell_type": "markdown",
   "metadata": {},
   "source": [
    "## += , <a name=\"anchor11\"></a>"
   ]
  },
  {
   "cell_type": "markdown",
   "metadata": {},
   "source": [
    "less to type and more clear, even faster according to the test. but if not familiar with, may bring confusion."
   ]
  },
  {
   "cell_type": "code",
   "execution_count": 17,
   "metadata": {},
   "outputs": [
    {
     "data": {
      "text/plain": [
       "[1, 2, 3, 4]"
      ]
     },
     "execution_count": 17,
     "metadata": {},
     "output_type": "execute_result"
    }
   ],
   "source": [
    "\"\"\", means convert to tuple, += element, equals to append(element)\"\"\"\n",
    "arr = [1, 2, 3]\n",
    "arr += 4,\n",
    "arr"
   ]
  },
  {
   "cell_type": "markdown",
   "metadata": {},
   "source": [
    "## light weight switch <a name=\"anchor12\"></a>"
   ]
  },
  {
   "cell_type": "code",
   "execution_count": 18,
   "metadata": {
    "scrolled": false
   },
   "outputs": [
    {
     "data": {
      "text/plain": [
       "6"
      ]
     },
     "execution_count": 18,
     "metadata": {},
     "output_type": "execute_result"
    }
   ],
   "source": [
    "\"\"\"emulate switch/case with dicts\"\"\"\n",
    "def op_dict(operator: str, x: float, y: float) -> float:\n",
    "     return {\n",
    "         '+': lambda: x + y,\n",
    "         '-': lambda: x - y,\n",
    "         '*': lambda: x * y,\n",
    "         '/': lambda: x / y,\n",
    "     }.get(operator, lambda: None)()\n",
    "\n",
    "op_dict('*', 2, 3)"
   ]
  },
  {
   "cell_type": "markdown",
   "metadata": {},
   "source": [
    "## decorator <a name=\"anchor13\"></a>"
   ]
  },
  {
   "cell_type": "code",
   "execution_count": 19,
   "metadata": {},
   "outputs": [
    {
     "data": {
      "text/plain": [
       "55"
      ]
     },
     "execution_count": 19,
     "metadata": {},
     "output_type": "execute_result"
    }
   ],
   "source": [
    "from functools import wraps\n",
    "def memoization(func):\n",
    "    cache = {}\n",
    "    miss = object()\n",
    " \n",
    "    @wraps(func)\n",
    "    def wrapper(*args):\n",
    "        result = cache.get(args, miss)\n",
    "        if result is miss:\n",
    "            result = func(*args)\n",
    "            cache[args] = result\n",
    "        return result\n",
    " \n",
    "    return wrapper\n",
    " \n",
    "@memoization\n",
    "def fib(n):\n",
    "    if n < 2:\n",
    "        return n\n",
    "    return fib(n - 1) + fib(n - 2)\n",
    "\n",
    "fib(10)"
   ]
  },
  {
   "cell_type": "markdown",
   "metadata": {},
   "source": [
    "## modify while iteration <a name=\"anchor14\"></a>"
   ]
  },
  {
   "cell_type": "markdown",
   "metadata": {},
   "source": [
    "instead of `queue` in [bfs](https://en.wikipedia.org/wiki/Breadth-first_search), more concise, but use more memory. for the scenario you need the whole path, it is a better way."
   ]
  },
  {
   "cell_type": "markdown",
   "metadata": {},
   "source": [
    "#### Inspiration:\n",
    "```python\n",
    "\"\"\"bfs with list, append while iteration, if you need whole path, it is better here.\"\"\"\n",
    "# given n processes, each process has a unique PID (process id) and its PPID (parent process id)\n",
    "# kill represents a process you want to kill, return a list of PIDs of processes that will be killed in the end\n",
    "def kill_process(pid: List[int], ppid: List[int], kill: int) -> List[int]:\n",
    "    d = defaultdict(list)\n",
    "    for c, p in zip(pid, ppid):\n",
    "        d[p].append(c)\n",
    "    bfs = [kill]\n",
    "    for i in bfs:\n",
    "        bfs += d[i]\n",
    "    return bfs\n",
    "```"
   ]
  },
  {
   "cell_type": "markdown",
   "metadata": {},
   "source": [
    "***"
   ]
  }
 ],
 "metadata": {
  "kernelspec": {
   "display_name": "Python 3",
   "language": "python",
   "name": "python3"
  },
  "language_info": {
   "codemirror_mode": {
    "name": "ipython",
    "version": 3
   },
   "file_extension": ".py",
   "mimetype": "text/x-python",
   "name": "python",
   "nbconvert_exporter": "python",
   "pygments_lexer": "ipython3",
   "version": "3.5.5"
  }
 },
 "nbformat": 4,
 "nbformat_minor": 2
}

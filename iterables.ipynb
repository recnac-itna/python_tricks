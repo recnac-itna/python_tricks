{
 "cells": [
  {
   "cell_type": "markdown",
   "metadata": {},
   "source": [
    "# 🐍Python Tricks - Iterables"
   ]
  },
  {
   "cell_type": "markdown",
   "metadata": {},
   "source": [
    "## table of content:\n",
    "* [construct generator](#anchor1)\n",
    "* [construct iterator](#anchor2)\n",
    "* [comprehension](#anchor3)\n",
    "* [lambda](#anchor4)\n",
    "* [map](#anchor5)\n",
    "* [reduce](#anchor6)\n",
    "* [zip](#anchor7)\n",
    "* [unpack](#anchor8)\n",
    "* [sum, max & min, all & any](#anchor9)\n",
    "* [construct iterator in bisect](#anchor10)"
   ]
  },
  {
   "cell_type": "markdown",
   "metadata": {},
   "source": [
    "***"
   ]
  },
  {
   "cell_type": "markdown",
   "metadata": {},
   "source": [
    "## construct generator <a name=\"anchor1\"></a>"
   ]
  },
  {
   "cell_type": "markdown",
   "metadata": {},
   "source": [
    "`generator` is a kind of iterable you can only iterate over once. generators do not store all the values in memory, they generate the values on the fly."
   ]
  },
  {
   "cell_type": "markdown",
   "metadata": {},
   "source": [
    "#### Inspirations:\n",
    "```python\n",
    "\"\"\"generate all combinations of coins which sum to target amount\"\"\"\n",
    "def get_coin_changes(coins: List[int], amount[int]) -> List[List[int]]:\n",
    "    for i, coin in enumerate(coins):\n",
    "        if coin == amount:\n",
    "            yield (coin,)\n",
    "        elif coin < amount:\n",
    "            yield from ((coin,) + x for x in change(coins[i:], amount - coin))\n",
    "\n",
    "\"\"\"generate all combinations of well-formed n pairs of parentheses\"\"\"\n",
    "def generate_parenthesis(n: int) -> List[str]:\n",
    "    def generate(p, left, right):\n",
    "        if 0 <= left <= right:\n",
    "            if not right:\n",
    "                yield p\n",
    "            for q in generate(p + '(', left-1, right): yield q\n",
    "            for q in generate(p + ')', left, right-1): yield q\n",
    "    return list(generate('', n, n))\n",
    "```"
   ]
  },
  {
   "cell_type": "markdown",
   "metadata": {},
   "source": [
    "## construct iterator <a name=\"anchor2\"></a>"
   ]
  },
  {
   "cell_type": "markdown",
   "metadata": {},
   "source": [
    "#### Inspiration:\n",
    "```python\n",
    "\"\"\"construct iterator to make sure check in only once\"\"\"\n",
    "# check if s is subsequence of t.\n",
    "def is_subsequence(s: str, t: str) -> bool:\n",
    "    t = iter(t)\n",
    "    return all(c in t for c in s)\n",
    "```"
   ]
  },
  {
   "cell_type": "markdown",
   "metadata": {},
   "source": [
    "## comprehension <a name=\"anchor3\"></a>"
   ]
  },
  {
   "cell_type": "code",
   "execution_count": 1,
   "metadata": {},
   "outputs": [],
   "source": [
    "\"\"\"list comprehension\"\"\"\n",
    "list_comprehension = [x for x in range(20) if x % 2]\n",
    "\n",
    "\"\"\"generator_expression\"\"\"\n",
    "generator_expression = (x for x in range(20) if x % 2)\n",
    "\n",
    "\"\"\"set comprehension\"\"\"\n",
    "set_comprehension = {x for x in range(20) if x % 2}\n",
    "\n",
    "\"\"\"dict comprehension\"\"\"\n",
    "dict_comprehension = {x: x**2 for x in range(10)}"
   ]
  },
  {
   "cell_type": "markdown",
   "metadata": {},
   "source": [
    "#### Inspirations:\n",
    "```python\n",
    "\"\"\"bfs in list comprehension way\"\"\"\n",
    "# find the largest value in each row of a binary tree\n",
    "def find_largest_in_binary_tree_rows(root: TreeNode) -> List[int]:\n",
    "    maxes, row = [], [root]\n",
    "    while any(row):\n",
    "        maxes.append(max(node.val for node in row))\n",
    "        row = [kid for node in row for kid in (node.left, node.right) if kid]\n",
    "    return maxes\n",
    "\n",
    "\"\"\"rotate image by list comprehension\"\"\"\n",
    "# rotate the image by 90 degrees (clockwise)\n",
    "def rotate_image_90_degrees(matrix: List[List[int]]) -> None:\n",
    "    matrix[:] = [[row[i] for row in matrix[::-1]] for i in range(len(A))]\n",
    "\n",
    "\"\"\"generate combinations by list comprehension recursively\"\"\"\n",
    "# Given two integers n and k, return all possible combinations of k numbers out of 1 ... n.\n",
    "def combine(n: int, k: int) -> List[List[int]]:\n",
    "    if k == 0:\n",
    "        return [[]]\n",
    "    # add last element\n",
    "    return [pre + [i] for i in range(k, n + 1) for pre in combine(i - 1, k - 1)]\n",
    "\n",
    "\"\"\"generate binary trees by list comprehension recursively\"\"\"\n",
    "# given an integer n, generate all structurally unique BST's (binary search trees) that store values 1 ... n.\n",
    "def generate_binary_search_trees(last: int, first: int=1) -> List[TreeNode]:\n",
    "    def node(val, left, right):\n",
    "        node = TreeNode(val)\n",
    "        node.left = left\n",
    "        node.right = right\n",
    "        return node\n",
    "    return [node(root, left, right) \n",
    "            for root in range(first, last+1)\n",
    "            for left in generate_binary_search_trees(root-1, first)\n",
    "            for right in generate_binary_search_trees(last, root+1)] or [None]\n",
    "\n",
    "\"\"\"list comprehension with variable definition and break\"\"\"\"\n",
    "\"\"\"notice: this is a bad idea, just for fun\"\"\"\n",
    "# https://stackoverflow.com/q/55646039/11263560\n",
    "\"\"\"use push & pop to record last pair\"\"\"\n",
    "res = [last.pop() and last.append(b) or b for last in [[desired_list[0]]] for a, b in \n",
    "       zip([desired_list[0]] + desired_list, desired_list) if abs(a[1] - b[1]) <= 5 and a == last[0]]\n",
    "\"\"\"or use end condition\"\"\"\n",
    "res = [b for end in [[]] for a, b in zip([desired_list[0]] + desired_list, desired_list) \n",
    "       if (False if end or abs(a[1] - b[1]) <= 5 else end.append(42)) or not end and abs(a[1] - b[1]) <= 5]\n",
    "```"
   ]
  },
  {
   "cell_type": "markdown",
   "metadata": {},
   "source": [
    "## lambda <a name=\"anchor4\"></a>\n",
    "single expression with implicit return"
   ]
  },
  {
   "cell_type": "code",
   "execution_count": 2,
   "metadata": {},
   "outputs": [
    {
     "data": {
      "text/plain": [
       "7"
      ]
     },
     "execution_count": 2,
     "metadata": {},
     "output_type": "execute_result"
    }
   ],
   "source": [
    "\"\"\"lexical closure\"\"\"\n",
    "def make_adder(n):\n",
    "    return lambda x: x + n\n",
    "\n",
    "plus_3 = make_adder(3)\n",
    "plus_3(4)"
   ]
  },
  {
   "cell_type": "code",
   "execution_count": 3,
   "metadata": {
    "scrolled": true
   },
   "outputs": [
    {
     "data": {
      "text/plain": [
       "[('rotten tomato', 1), ('banana', 5), ('apple', 18), ('orange', 20)]"
      ]
     },
     "execution_count": 3,
     "metadata": {},
     "output_type": "execute_result"
    }
   ],
   "source": [
    "\"\"\"sort dict by value\"\"\"\n",
    "# use lambda\n",
    "d = {'apple': 18, 'orange': 20, 'banana': 5, 'rotten tomato': 1}\n",
    "sorted(d.items(), key=lambda x: x[1])\n",
    "\n",
    "# alternative\n",
    "from operator import itemgetter\n",
    "sorted(d.items(), key=itemgetter(1))"
   ]
  },
  {
   "cell_type": "markdown",
   "metadata": {},
   "source": [
    "#### Inspirations:\n",
    "```python\n",
    "for pos in range(len(S)):\n",
    "    \"\"\"lambda used in filter\"\"\"\n",
    "    matched_words = list(filter(lambda x: S[pos:].startswith(x), words))\n",
    "    if matched_words:\n",
    "        \"\"\"lambda used in max\"\"\"\n",
    "        add_interval([pos, pos + len(max(matched_words, key=lambda x: len(x)))])\n",
    "\n",
    "\"\"\"call lambda in nested\"\"\"\n",
    "# given a sequence of words, check whether it forms a valid word square.\n",
    "def valid_word_square(words: List[str]) -> bool:\n",
    "    f = lambda x: map(None, *x)  # python 2\n",
    "    return f(f(words)) == f(words)\n",
    "```"
   ]
  },
  {
   "cell_type": "markdown",
   "metadata": {},
   "source": [
    "## map <a name=\"anchor5\"></a>\n",
    "`map` applies a function to all the items in a given iterable"
   ]
  },
  {
   "cell_type": "markdown",
   "metadata": {},
   "source": [
    "#### Inspirations:\n",
    "```python\n",
    "\"\"\"map to node children recursively\"\"\"\n",
    "# get depth in binary tree\n",
    "def max_depth(root: TreeNode) -> int:\n",
    "    return 1 + max(map(maxDepth, (root.left, root.right))) if root else 0\n",
    "\n",
    "\"\"\"comparison map find with map index\"\"\"\n",
    "# given a pattern and a string words, find if words follows the same pattern. \n",
    "# i.e. pattern = 'abba', words = 'dog cat cat dog'\n",
    "def valid_word_pattern(pattern: str, words: str) -> bool:\n",
    "    s, t = pattern, words.split()\n",
    "    return list(map(s.find, s)) == list(map(t.index, t))\n",
    "\n",
    "\"\"\"map dict.get\"\"\"\n",
    "# given scores of N athletes, find their relative ranks and the people with the top three highest scores, who will be awarded medals: \"Gold Medal\", \"Silver Medal\" and \"Bronze Medal\"\n",
    "def find_relative_ranks(nums: List[int]) -> List[str]:\n",
    "    sorted_nums = sorted(nums, reverse=True)\n",
    "    rank = [\"Gold Medal\", \"Silver Medal\", \"Bronze Medal\"] + list(map(str, range(4, len(nums) + 1)))\n",
    "    return list(map(dict(zip(sorted_nums, rank)).get, nums))\n",
    "```"
   ]
  },
  {
   "cell_type": "markdown",
   "metadata": {},
   "source": [
    "## reduce <a name=\"anchor6\"></a>"
   ]
  },
  {
   "cell_type": "markdown",
   "metadata": {},
   "source": [
    "`reduce` returns a single value constructed by function on the first two items of the sequence, then on the result and the next item, and so on."
   ]
  },
  {
   "cell_type": "markdown",
   "metadata": {},
   "source": [
    "#### Inspirations:\n",
    "```python\n",
    "# every numbers appears twice except for one, find that single one\n",
    "def single_number(nums: List[int]) -> int:\n",
    "    return reduce(lambda x, y: x ^ y, nums)\n",
    "\n",
    "# generate all possible permutations\n",
    "def permute(nums: List[int]) -> List[List[int]]:\n",
    "    return reduce(lambda P, n: [p[:i] + [n] + p[i:] for p in P for i in range(len(p)+1)], \n",
    "                  nums, [[]])\n",
    "```"
   ]
  },
  {
   "cell_type": "markdown",
   "metadata": {},
   "source": [
    "## zip <a name=\"anchor7\"></a>"
   ]
  },
  {
   "cell_type": "markdown",
   "metadata": {},
   "source": [
    "`zip` takes iterator that aggregates elements based on the iterables passed, and returns an iterator of tuples."
   ]
  },
  {
   "cell_type": "code",
   "execution_count": 4,
   "metadata": {},
   "outputs": [
    {
     "data": {
      "text/plain": [
       "[(1, 4), (2, 5), (3, 6)]"
      ]
     },
     "execution_count": 4,
     "metadata": {},
     "output_type": "execute_result"
    }
   ],
   "source": [
    "a = [1,2,3]\n",
    "b = [4,5,6]\n",
    "zipped=zip(a,b)\n",
    "list(zipped)"
   ]
  },
  {
   "cell_type": "markdown",
   "metadata": {},
   "source": [
    "#### Inspirations:\n",
    "```python\n",
    "\"\"\"construct dict\"\"\"\n",
    "keys = ['a', 'b', 'c']\n",
    "vals = [1, 2, 3]\n",
    "zipped_dict = dict(zip(keys, vals))\n",
    "\n",
    "\"\"\"difference of neighor pairs\"\"\"\n",
    "arr, diffs = [1, 2, 3, 4, 5], []\n",
    "for pre, post in zip(arr[:-1], arr[1:]):  # zip(arr, arr[1:]) is ok too, zip match the shortest\n",
    "    diffs.append(post - pre)\n",
    "\n",
    "\"\"\"transpose matrix\"\"\"\n",
    "def transpose(matrix: List[List[int]]) -> List[List[int]]:\n",
    "    return list(map(list, zip(*matrix)))\n",
    "\n",
    "\"\"\"zip into a set\"\"\"\n",
    "# given a pattern and a string words, find if words follows the same pattern. \n",
    "# i.e. pattern = 'abba', words = 'dog cat cat dog'\n",
    "def valid_word_pattern(pattern: str, words: str) -> bool:\n",
    "    s, t = pattern, words.split()\n",
    "    return len(set(zip(s, t))) == len(set(s)) == len(set(t)) and len(s) == len(t)\n",
    "```"
   ]
  },
  {
   "cell_type": "markdown",
   "metadata": {},
   "source": [
    "## unpack <a name=\"anchor8\"></a>"
   ]
  },
  {
   "cell_type": "code",
   "execution_count": 5,
   "metadata": {},
   "outputs": [
    {
     "data": {
      "text/plain": [
       "6"
      ]
     },
     "execution_count": 5,
     "metadata": {},
     "output_type": "execute_result"
    }
   ],
   "source": [
    "def product(a, b):\n",
    "    return a * b\n",
    "\n",
    "\"\"\"use * to unpack tuple, list or other iterables\"\"\"\n",
    "param_tuple = (2, 3)\n",
    "product(*param_tuple)\n",
    "\n",
    "\"\"\"use ** to unpack dict\"\"\"\n",
    "param_dict = {'a': 2, 'b': 3}\n",
    "product(**param_dict)"
   ]
  },
  {
   "cell_type": "markdown",
   "metadata": {},
   "source": [
    "#### Inspirations:\n",
    "```python\n",
    "\"\"\"get rest of all\"\"\"\n",
    "a, *b, c = range(5)\n",
    "# b = [1, 2, 3]\n",
    "[(c, *d, [*e]), f, *g] = [[1, 2, 3, 4, [5, 5, 5]], 6, 7, 8]\n",
    "# d = [2, 3, 4], e = [5, 5, 5], g = [7, 8]\n",
    "\n",
    "\"\"\"merge dicts\"\"\"\n",
    "a = {'1': 1, '2': 2}\n",
    "b = {'2': 3, '4': 4}\n",
    "merged_dict = {**a, **b}   #{'1': 1, '2': 3, '4': 4}\n",
    "\n",
    "\"\"\"[*a] = list(a), [*zip(*matrix)]: transpose matrix\"\"\"\n",
    "# traverse matrix in spiral order.\n",
    "def traverse_spiral_order(matrix: List[List[int]]) -> List[int]:\n",
    "    return matrix and [*matrix.pop(0)] + traverse_spiral_order([*zip(*matrix)][::-1])\n",
    "```"
   ]
  },
  {
   "cell_type": "markdown",
   "metadata": {},
   "source": [
    "## sum, max & min, all & any <a name=\"anchor9\"></a>"
   ]
  },
  {
   "cell_type": "markdown",
   "metadata": {},
   "source": [
    "#### Inspirations:\n",
    "```python\n",
    "\"\"\"sum\"\"\"\n",
    "# S is stones you have, J is types of stones which are jewels, and you want to know how many stones are also jewels.\n",
    "def num_jewels_in_stones(J: str, S: str) -> int:\n",
    "    return sum(map(J.count, S))\n",
    "\n",
    "# string t is generated by random shuffling string s and then add one more letter at a random position, find the letter.\n",
    "def find_the_difference(s: str, t: str) -> str:\n",
    "    return chr(sum(map(ord, t)) - sum(map(ord, s)))\n",
    "\n",
    "# determine if a permutation of the string could form a palindrome\n",
    "def can_permute_palindrome(s: str) -> bool:\n",
    "    \"\"\"at most one odd count character\"\"\"\n",
    "    return sum(v % 2 for v in Counter(s).values()) <= 1\n",
    "\n",
    "\"\"\"max\"\"\"\n",
    "# find the majority element which appears more than ⌊ n/2 ⌋ times.\n",
    "def majority_element(nums: List[int]) -> int:\n",
    "    counts = Counter(nums)\n",
    "    return max(counts.keys(), key=counts.get)\n",
    "\n",
    "\"\"\"min\"\"\"\n",
    "# find the longest common prefix string amongst an array of strings.\n",
    "def longest_common_prefix(strs: List[str]) -> str:\n",
    "    shortest = min(strs, key=len)\n",
    "    for i, ch in enumerate(shortest):\n",
    "        if any(s[i] != ch for s in strs):\n",
    "            return shortest[:i]\n",
    "    return shortest\n",
    "\n",
    "\"\"\"any\"\"\"\n",
    "# determine if a 9x9 Sudoku board is valid, which means 1-9 in row, column, 3x3 sub-boxes\n",
    "def is_valid_sudoku(board: List[List[str]]) -> bool:\n",
    "    seen = set()\n",
    "    return not any(x in seen or seen.add(x)\n",
    "                   for i, row in enumerate(board)\n",
    "                   for j, c in enumerate(row)\n",
    "                   if c != '.'\n",
    "                   for x in ((c, i), (j, c), (i/3, j/3, c)))\n",
    "\n",
    "\"\"\"all\"\"\"\n",
    "# a matrix is Toeplitz if every diagonal from top-left to bottom-right has the same element.\n",
    "def is_toeplitz_matrix(matrix: List[List[int]]) -> bool:\n",
    "    return all(r == 0 or c == 0 or matrix[r-1][c-1] == val\n",
    "               for r, row in enumerate(matrix)\n",
    "               for c, val in enumerate(row))\n",
    "\n",
    "# verify the number is strobogrammatic, strobogrammatic number looks the same when rotated 180 degrees\n",
    "def is_strobogrammatic(num: str) -> bool:\n",
    "    return all(map('696 00 11 88'.count, map(operator.add, num, num[::-1])))\n",
    "\n",
    "# given n nodes labeled from 0 to n-1 and a list of undirected edges, check whether these edges make up a valid tree.\n",
    "def valid_tree(n: int, edges: List[List[int]]) -> bool:\n",
    "    \"\"\"all check in union find\"\"\"\n",
    "    parent = range(n)\n",
    "    def find(x):\n",
    "        return x if parent[x] == x else find(parent[x])\n",
    "    def union(xy):\n",
    "        x, y = map(find, xy)\n",
    "        parent[x] = y\n",
    "        return x != y\n",
    "    return len(edges) == n-1 and all(map(union, edges))\n",
    "```"
   ]
  },
  {
   "cell_type": "markdown",
   "metadata": {},
   "source": [
    "## construct iterable in bisect <a name=\"anchor10\"></a>\n",
    "generalize `bisect` usage to customized iterables"
   ]
  },
  {
   "cell_type": "markdown",
   "metadata": {},
   "source": [
    "#### Inspirations:\n",
    "```python\n",
    "\"\"\"use binary search to find the first number that's less than or equal to the last.\"\"\"\n",
    "# find the minimum element in rotated sorted array\n",
    "def find_min_in_rotated_sorted_arr(self, nums: List[int]) -> int:\n",
    "    \"\"\"construct iterable which distinguish the two parts of rotated array\"\"\"\n",
    "    self.__getitem__ = lambda i: nums[i] <= nums[-1]\n",
    "    return nums[bisect.bisect(self, False, 0, len(nums))]\n",
    "\n",
    "\"\"\"construct a boolean iterable and use binary search\"\"\"\n",
    "# find the median of the two sorted arrays\n",
    "def find_median_in_two_sorted_arrays(nums1: List[int], nums2: List[int]) -> float:\n",
    "    a, b = sorted((nums1, nums2), key=len)\n",
    "    m, n = len(a), len(b)\n",
    "    after = (m + n - 1) // 2\n",
    "    class Range:\n",
    "        def __getitem__(self, i):\n",
    "            return after-i-1 < 0 or a[i] >= b[after-i-1]\n",
    "    i = bisect.bisect_left(Range(), True, 0, m)\n",
    "    nextfew = sorted(a[i:i+2] + b[after-i:after-i+2])\n",
    "    return (nextfew[0] + nextfew[1 - (m+n)%2]) / 2\n",
    "```"
   ]
  },
  {
   "cell_type": "markdown",
   "metadata": {},
   "source": [
    "***"
   ]
  }
 ],
 "metadata": {
  "kernelspec": {
   "display_name": "Python 3",
   "language": "python",
   "name": "python3"
  },
  "language_info": {
   "codemirror_mode": {
    "name": "ipython",
    "version": 3
   },
   "file_extension": ".py",
   "mimetype": "text/x-python",
   "name": "python",
   "nbconvert_exporter": "python",
   "pygments_lexer": "ipython3",
   "version": "3.5.5"
  }
 },
 "nbformat": 4,
 "nbformat_minor": 2
}
